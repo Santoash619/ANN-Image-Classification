{
 "cells": [
  {
   "cell_type": "markdown",
   "metadata": {
    "id": "SOPkZ7pAH1hD"
   },
   "source": [
    "# Objective: Forest vs Building Classification Using ANN"
   ]
  },
  {
   "cell_type": "markdown",
   "metadata": {
    "id": "5wrqhxNtH1hM"
   },
   "source": [
    "Steps:\n",
    "1. Importing (or installing) Tenosrflow, Keras and other packages on your system\n",
    "2. Loading your data from disk\n",
    "3. Creating your training and testing splits\n",
    "4. Data Preprocessing \n",
    "5. Defining your tensorflow ANN model architecture\n",
    "6. Compiling your tensorflow ANN model\n",
    "7. Training your model on your training data\n",
    "8. Evaluating your model on your test data\n",
    "9. Generate Plots for accuracy and validation loss\n",
    "10. Saving The train model\n",
    "11. Making predictions using your trained tensorflow model"
   ]
  },
  {
   "cell_type": "markdown",
   "metadata": {
    "id": "Dd-17cKpH1hO"
   },
   "source": [
    "### Step 1: Importing all the packages"
   ]
  },
  {
   "cell_type": "code",
   "execution_count": 1,
   "metadata": {
    "id": "Wc07XIN8H1hP"
   },
   "outputs": [],
   "source": [
    "# Import libraries and packages\n",
    "import matplotlib as plt\n",
    "import matplotlib.pyplot as plt\n",
    "%matplotlib inline\n",
    "from tensorflow.keras.utils import to_categorical\n",
    "from sklearn.model_selection import train_test_split\n",
    "from sklearn.metrics import confusion_matrix , accuracy_score, classification_report\n",
    "from tensorflow.keras.models import Sequential\n",
    "from tensorflow.keras.layers import Dense, Dropout\n",
    "from tensorflow.keras.optimizers import SGD\n",
    "from imutils import paths\n",
    "import matplotlib.pyplot as plt\n",
    "import numpy as np\n",
    "import random\n",
    "import pickle\n",
    "import cv2\n",
    "import os\n",
    "import time   # time1 = time.time(); print('Time taken: {:.1f} seconds'.format(time.time() - time1))\n",
    "import warnings\n",
    "from tqdm import tqdm_notebook as tqdm\n",
    "import itertools\n",
    "\n",
    "warnings.filterwarnings(\"ignore\")\n",
    "SEED = 42   # set random seed"
   ]
  },
  {
   "cell_type": "markdown",
   "metadata": {
    "id": "a4ykOP9PH1hR"
   },
   "source": [
    "### Step 2: Loading your data from disk for training"
   ]
  },
  {
   "cell_type": "code",
   "execution_count": null,
   "metadata": {},
   "outputs": [],
   "source": [
    "# # mount google drive to collab notebook\n",
    "# from google.colab import drive\n",
    "# drive.mount('/content/drive')"
   ]
  },
  {
   "cell_type": "code",
   "execution_count": null,
   "metadata": {},
   "outputs": [],
   "source": [
    "# # change working DIR \n",
    "# import os \n",
    "# os.chdir(\"/content/drive/MyDrive/Imarticus_Deep_learning_B2/DAY_1_ANN\")"
   ]
  },
  {
   "cell_type": "code",
   "execution_count": null,
   "metadata": {},
   "outputs": [],
   "source": [
    "# Extract dataset.rar file\n",
    "# !pip install patool"
   ]
  },
  {
   "cell_type": "code",
   "execution_count": null,
   "metadata": {},
   "outputs": [],
   "source": [
    "# import patoolib\n",
    "# patoolib.extract_archive(\"dataset.rar\")"
   ]
  },
  {
   "cell_type": "code",
   "execution_count": null,
   "metadata": {},
   "outputs": [],
   "source": [
    "# patoolib.extract_archive(\"test_examples.rar\")"
   ]
  },
  {
   "cell_type": "code",
   "execution_count": null,
   "metadata": {},
   "outputs": [],
   "source": [
    "!dir"
   ]
  },
  {
   "cell_type": "code",
   "execution_count": 2,
   "metadata": {
    "colab": {
     "referenced_widgets": [
      "edc6e57fb04c4d8b8a479d6cbc6a475a"
     ]
    },
    "id": "C6fWvIhpH1hS",
    "outputId": "fd5905d7-bdb7-4567-b98b-a18599db0685"
   },
   "outputs": [
    {
     "name": "stdout",
     "output_type": "stream",
     "text": [
      "[INFO] loading images...\n"
     ]
    },
    {
     "data": {
      "application/vnd.jupyter.widget-view+json": {
       "model_id": "6efc3d7201bf400185212b329994030f",
       "version_major": 2,
       "version_minor": 0
      },
      "text/plain": [
       "  0%|          | 0/883 [00:00<?, ?it/s]"
      ]
     },
     "metadata": {},
     "output_type": "display_data"
    },
    {
     "name": "stdout",
     "output_type": "stream",
     "text": [
      "Time taken: 1.3 seconds\n",
      "done\n"
     ]
    }
   ],
   "source": [
    "# initialize the data and labels\n",
    "print(\"[INFO] loading images...\")\n",
    "time1 = time.time()   # to measure time taken\n",
    "data = []\n",
    "labels = []\n",
    "\n",
    "classes = [\"Forest\", \"Buildings\"]\n",
    "\n",
    "# grab the image paths and randomly shuffle them\n",
    "imagePaths = sorted(list(paths.list_images('dataset')))   # data folder with 2 categorical folders\n",
    "random.seed(SEED)\n",
    "random.shuffle(imagePaths)\n",
    "\n",
    "# progress bar \n",
    "with tqdm(total=len(imagePaths)) as pbar:\n",
    "    \n",
    "    # loop over the input images\n",
    "    for imagePath in imagePaths:\n",
    "        # load the image, resize the image to be 32x32 pixels (ignoring aspect ratio), \n",
    "        # flatten the 32x32x3=3072 pixel image into a list, and store the image in the data list\n",
    "        image = cv2.imread(imagePath)\n",
    "        image = cv2.resize(image, (32, 32)).flatten()\n",
    "        data.append(image)\n",
    "\n",
    "        # extract the class label from the image path and update the labels list\n",
    "        label = imagePath.split(os.path.sep)[-2]\n",
    "        \n",
    "        label = 1 if label == \"Buildings\" else 0\n",
    "        labels.append(label)\n",
    "        \n",
    "        # update the progressbar\n",
    "        pbar.update(1)\n",
    "\n",
    "# scale the raw pixel intensities to the range [0, 1]\n",
    "data = np.array(data, dtype=\"float\") / 255.0\n",
    "labels = np.array(labels)\n",
    "\n",
    "print('Time taken: {:.1f} seconds'.format(time.time() - time1))   # to measure time taken\n",
    "print(\"done\")"
   ]
  },
  {
   "cell_type": "code",
   "execution_count": 3,
   "metadata": {
    "id": "nVPfN9uLH1hV",
    "outputId": "663e606a-4b4e-4199-8e61-738c87c427ce"
   },
   "outputs": [
    {
     "name": "stdout",
     "output_type": "stream",
     "text": [
      "Total Images:  883\n"
     ]
    }
   ],
   "source": [
    "print(\"Total Images: \", len(data))"
   ]
  },
  {
   "cell_type": "code",
   "execution_count": null,
   "metadata": {
    "id": "ubSNZ3sXH1hW"
   },
   "outputs": [],
   "source": []
  },
  {
   "cell_type": "code",
   "execution_count": 4,
   "metadata": {
    "id": "4t61EG6aH1hW",
    "outputId": "944b00af-3eda-461b-96e5-a1b4053df781"
   },
   "outputs": [
    {
     "name": "stdout",
     "output_type": "stream",
     "text": [
      "sample image: [0.31764706 0.29803922 0.28627451 ... 0.74117647 0.58823529 0.4627451 ]\n",
      "no of features/pixels values: 3072\n",
      "label: Forest\n"
     ]
    }
   ],
   "source": [
    "# sample data for first image\n",
    "print(\"sample image: {}\".format(data[0]))\n",
    "print(\"no of features/pixels values: {}\".format(len(data[0]))) # 32x32x3=3072\n",
    "print(\"label: {}\".format(classes[labels[0]]))"
   ]
  },
  {
   "cell_type": "markdown",
   "metadata": {
    "id": "F1om_oqHH1hX"
   },
   "source": [
    "### Step 3: Creating your training and testing splits"
   ]
  },
  {
   "cell_type": "code",
   "execution_count": 6,
   "metadata": {
    "id": "0JeZsctwH1hY"
   },
   "outputs": [],
   "source": [
    "# partition the data into 80% training and 20% validation\n",
    "(trainX, testX, trainY, testY) = train_test_split(data, labels, test_size=0.2, random_state=SEED)"
   ]
  },
  {
   "cell_type": "code",
   "execution_count": 7,
   "metadata": {
    "id": "LS-WxAlMH1hZ",
    "outputId": "908c7c4f-f56c-48db-a5fc-0d86c9575bb6"
   },
   "outputs": [
    {
     "data": {
      "text/plain": [
       "(706, 3072)"
      ]
     },
     "execution_count": 7,
     "metadata": {},
     "output_type": "execute_result"
    }
   ],
   "source": [
    "trainX.shape  "
   ]
  },
  {
   "cell_type": "code",
   "execution_count": 8,
   "metadata": {
    "id": "_HgWZSTVH1hZ",
    "outputId": "72ef7e3f-6c92-447e-fe58-6a747bb861a4"
   },
   "outputs": [
    {
     "data": {
      "text/plain": [
       "(706,)"
      ]
     },
     "execution_count": 8,
     "metadata": {},
     "output_type": "execute_result"
    }
   ],
   "source": [
    "trainY.shape"
   ]
  },
  {
   "cell_type": "code",
   "execution_count": 9,
   "metadata": {
    "id": "383Ph1VjH1ha",
    "outputId": "d0a45738-3ea4-4469-875f-4cadfda1e6b0"
   },
   "outputs": [
    {
     "data": {
      "text/plain": [
       "(177, 3072)"
      ]
     },
     "execution_count": 9,
     "metadata": {},
     "output_type": "execute_result"
    }
   ],
   "source": [
    "testX.shape"
   ]
  },
  {
   "cell_type": "code",
   "execution_count": 10,
   "metadata": {
    "id": "1uUniwLqH1ha",
    "outputId": "b4a818f0-d2fb-4d39-ec76-aba41428880e"
   },
   "outputs": [
    {
     "data": {
      "text/plain": [
       "(177,)"
      ]
     },
     "execution_count": 10,
     "metadata": {},
     "output_type": "execute_result"
    }
   ],
   "source": [
    "testY.shape"
   ]
  },
  {
   "cell_type": "code",
   "execution_count": 11,
   "metadata": {
    "id": "EZUchGj5H1hb",
    "outputId": "5b66c436-e549-42e1-d898-93ff9aa7eabb"
   },
   "outputs": [
    {
     "data": {
      "text/plain": [
       "array([[0.20392157, 0.57254902, 0.34509804, ..., 0.00784314, 0.17254902,\n",
       "        0.07843137],\n",
       "       [0.85490196, 0.87843137, 0.95686275, ..., 0.        , 0.        ,\n",
       "        0.01176471],\n",
       "       [0.76862745, 0.77254902, 0.78039216, ..., 0.44313725, 0.46666667,\n",
       "        0.48627451],\n",
       "       ...,\n",
       "       [0.88235294, 0.87058824, 0.80392157, ..., 0.21960784, 0.19215686,\n",
       "        0.23137255],\n",
       "       [0.84313725, 0.78823529, 0.79215686, ..., 0.3372549 , 0.36862745,\n",
       "        0.62745098],\n",
       "       [0.02352941, 0.35686275, 0.17254902, ..., 0.09411765, 0.28627451,\n",
       "        0.21568627]])"
      ]
     },
     "execution_count": 11,
     "metadata": {},
     "output_type": "execute_result"
    }
   ],
   "source": [
    "trainX"
   ]
  },
  {
   "cell_type": "code",
   "execution_count": 12,
   "metadata": {
    "id": "XOQ2xVXWH1he",
    "outputId": "6d133ab9-f28c-46e4-ef72-f3cbb52fe75d"
   },
   "outputs": [
    {
     "data": {
      "text/plain": [
       "array([0, 1, 1, 1, 0, 1, 0, 0, 0, 0, 0, 1, 1, 0, 1, 0, 1, 0, 1, 1, 1, 1,\n",
       "       1, 1, 1, 0, 0, 1, 1, 1, 0, 1, 0, 1, 1, 1, 1, 0, 1, 0, 1, 1, 1, 0,\n",
       "       0, 0, 1, 1, 1, 1, 1, 1, 1, 1, 0, 1, 0, 0, 1, 1, 0, 0, 0, 1, 0, 0,\n",
       "       1, 0, 0, 1, 0, 1, 1, 0, 0, 0, 1, 0, 1, 1, 1, 1, 1, 1, 1, 1, 1, 1,\n",
       "       1, 0, 1, 1, 1, 0, 0, 0, 1, 1, 1, 0, 0, 1, 1, 1, 1, 1, 1, 1, 0, 1,\n",
       "       1, 1, 1, 1, 0, 1, 1, 1, 1, 1, 1, 0, 0, 1, 1, 1, 0, 1, 1, 1, 0, 0,\n",
       "       0, 0, 0, 1, 1, 0, 0, 1, 0, 0, 1, 1, 0, 1, 0, 1, 1, 0, 1, 0, 0, 0,\n",
       "       1, 1, 0, 0, 0, 1, 0, 1, 0, 0, 0, 1, 0, 1, 1, 0, 1, 1, 1, 1, 0, 1,\n",
       "       0, 0, 1, 0, 1, 0, 1, 1, 1, 1, 1, 1, 1, 1, 0, 1, 0, 1, 1, 0, 0, 0,\n",
       "       0, 1, 0, 0, 0, 0, 1, 0, 0, 1, 0, 0, 0, 0, 0, 0, 0, 0, 1, 0, 0, 0,\n",
       "       0, 0, 1, 1, 1, 0, 1, 0, 1, 1, 1, 0, 1, 1, 0, 1, 1, 1, 0, 1, 1, 1,\n",
       "       1, 0, 1, 1, 0, 0, 1, 0, 1, 0, 1, 0, 0, 0, 0, 1, 0, 0, 0, 1, 0, 1,\n",
       "       0, 0, 1, 0, 1, 1, 0, 1, 0, 0, 1, 1, 0, 1, 1, 0, 1, 0, 1, 0, 0, 0,\n",
       "       0, 1, 1, 0, 1, 0, 1, 1, 1, 1, 1, 0, 1, 1, 1, 0, 1, 0, 1, 0, 1, 0,\n",
       "       0, 1, 1, 0, 0, 0, 1, 0, 0, 0, 0, 0, 1, 0, 1, 0, 1, 0, 1, 0, 1, 1,\n",
       "       0, 1, 1, 1, 0, 1, 0, 1, 1, 0, 0, 0, 1, 0, 1, 1, 1, 1, 0, 0, 0, 0,\n",
       "       0, 0, 0, 1, 1, 1, 0, 1, 0, 0, 1, 1, 1, 1, 1, 0, 1, 0, 1, 1, 1, 0,\n",
       "       0, 1, 0, 1, 0, 1, 1, 0, 0, 1, 1, 0, 1, 0, 1, 0, 0, 1, 1, 0, 1, 0,\n",
       "       1, 1, 1, 1, 0, 1, 1, 1, 0, 0, 0, 1, 1, 0, 1, 0, 0, 0, 1, 1, 0, 0,\n",
       "       1, 1, 0, 1, 0, 1, 1, 1, 1, 1, 1, 1, 1, 1, 0, 0, 0, 1, 1, 1, 0, 1,\n",
       "       1, 1, 1, 1, 1, 0, 0, 1, 1, 1, 1, 1, 1, 1, 1, 1, 0, 0, 0, 1, 1, 0,\n",
       "       0, 0, 1, 1, 1, 0, 1, 0, 0, 0, 1, 1, 0, 0, 0, 0, 0, 1, 1, 0, 0, 0,\n",
       "       1, 0, 0, 1, 1, 0, 1, 0, 1, 1, 1, 1, 1, 0, 1, 1, 0, 1, 0, 1, 1, 0,\n",
       "       0, 1, 0, 0, 1, 1, 1, 1, 1, 0, 1, 1, 1, 0, 0, 1, 1, 1, 0, 0, 1, 1,\n",
       "       1, 1, 0, 1, 1, 1, 1, 1, 0, 0, 1, 1, 1, 1, 1, 1, 1, 0, 0, 1, 0, 1,\n",
       "       0, 1, 1, 0, 1, 0, 1, 0, 0, 1, 0, 1, 0, 1, 0, 0, 0, 1, 1, 1, 0, 0,\n",
       "       1, 1, 0, 1, 0, 0, 0, 1, 0, 0, 0, 1, 0, 1, 1, 1, 0, 1, 1, 1, 0, 1,\n",
       "       1, 0, 1, 1, 0, 0, 0, 0, 1, 1, 1, 1, 0, 0, 1, 0, 0, 1, 1, 1, 0, 0,\n",
       "       0, 0, 1, 1, 0, 0, 1, 0, 1, 0, 1, 0, 1, 1, 0, 1, 1, 1, 0, 1, 1, 0,\n",
       "       1, 1, 0, 1, 0, 0, 0, 0, 0, 0, 0, 0, 1, 1, 0, 0, 1, 1, 1, 1, 1, 0,\n",
       "       0, 1, 0, 0, 0, 0, 1, 1, 1, 0, 0, 1, 1, 1, 1, 1, 1, 0, 0, 0, 1, 1,\n",
       "       1, 0, 1, 1, 1, 0, 0, 0, 1, 1, 1, 1, 1, 1, 0, 1, 1, 1, 0, 0, 1, 0,\n",
       "       1, 0])"
      ]
     },
     "execution_count": 12,
     "metadata": {},
     "output_type": "execute_result"
    }
   ],
   "source": [
    "trainY"
   ]
  },
  {
   "cell_type": "code",
   "execution_count": 13,
   "metadata": {
    "id": "bGXcQ96NH1he",
    "outputId": "9cf333bf-711f-444c-dab1-2ced6c2abb4c"
   },
   "outputs": [
    {
     "data": {
      "text/plain": [
       "numpy.ndarray"
      ]
     },
     "execution_count": 13,
     "metadata": {},
     "output_type": "execute_result"
    }
   ],
   "source": [
    "type(trainY)"
   ]
  },
  {
   "cell_type": "code",
   "execution_count": 14,
   "metadata": {
    "id": "S2xgBvbyH1hf",
    "outputId": "2dc3348e-1b7b-4700-b925-f572daf723b3"
   },
   "outputs": [
    {
     "data": {
      "text/plain": [
       "array([1, 0, 1, 0, 1, 0, 1, 0, 0, 0, 1, 1, 1, 1, 0, 0, 1, 1, 0, 1, 1, 0,\n",
       "       0, 1, 1, 1, 0, 1, 0, 1, 0, 0, 0, 0, 0, 1, 1, 0, 1, 1, 1, 1, 0, 1,\n",
       "       0, 1, 0, 1, 1, 1, 1, 0, 1, 0, 1, 0, 1, 0, 0, 1, 1, 0, 1, 0, 1, 1,\n",
       "       0, 0, 1, 0, 0, 0, 0, 1, 0, 1, 0, 0, 1, 1, 1, 0, 0, 0, 0, 0, 1, 1,\n",
       "       0, 1, 0, 1, 1, 0, 1, 1, 1, 0, 1, 0, 0, 0, 1, 0, 0, 1, 1, 1, 0, 0,\n",
       "       1, 0, 0, 0, 0, 1, 0, 1, 0, 1, 1, 1, 1, 1, 1, 1, 0, 0, 1, 1, 1, 1,\n",
       "       1, 1, 0, 0, 1, 0, 1, 1, 1, 0, 0, 1, 1, 0, 1, 1, 1, 1, 0, 0, 0, 1,\n",
       "       1, 0, 1, 1, 1, 1, 1, 0, 0, 0, 0, 1, 0, 1, 0, 0, 0, 0, 1, 0, 1, 1,\n",
       "       1])"
      ]
     },
     "execution_count": 14,
     "metadata": {},
     "output_type": "execute_result"
    }
   ],
   "source": [
    "testY"
   ]
  },
  {
   "cell_type": "markdown",
   "metadata": {
    "id": "Ju5PeM9IH1hf"
   },
   "source": [
    "### Step 4: Data Preprocessing "
   ]
  },
  {
   "cell_type": "code",
   "execution_count": 15,
   "metadata": {
    "id": "KOVY7aNvH1hg"
   },
   "outputs": [],
   "source": [
    "# convert the labels from integers/categories to vectors \n",
    "\n",
    "trainY = to_categorical(trainY, num_classes=2)   # fit_transform = find all unique class labels + transform into one-hot encoded labels\n",
    "testY = to_categorical(testY, num_classes=2)     # transform = perform the one-hot encoding (unique class labels already found)\n",
    "\n",
    "# [0,1] Buildings\n",
    "# [1,0] Forest"
   ]
  },
  {
   "cell_type": "code",
   "execution_count": 16,
   "metadata": {
    "id": "uSIXmTiAH1hg"
   },
   "outputs": [],
   "source": [
    "# testY"
   ]
  },
  {
   "cell_type": "code",
   "execution_count": 17,
   "metadata": {
    "id": "6a8Kt4OAH1hg",
    "outputId": "9b7d64d1-fd93-4236-c9a4-2fa2d9984d6b"
   },
   "outputs": [
    {
     "data": {
      "text/plain": [
       "array([[1., 0.],\n",
       "       [0., 1.],\n",
       "       [0., 1.],\n",
       "       ...,\n",
       "       [1., 0.],\n",
       "       [0., 1.],\n",
       "       [1., 0.]], dtype=float32)"
      ]
     },
     "execution_count": 17,
     "metadata": {},
     "output_type": "execute_result"
    }
   ],
   "source": [
    "trainY"
   ]
  },
  {
   "cell_type": "code",
   "execution_count": 18,
   "metadata": {
    "id": "sqa_ionjH1hh"
   },
   "outputs": [],
   "source": [
    "sample_image = (trainX[5] * 255).astype(\"int\")"
   ]
  },
  {
   "cell_type": "code",
   "execution_count": 19,
   "metadata": {
    "id": "6CvUQMryH1hh",
    "outputId": "2d3585a7-3e5f-44a7-84d9-70a94c11b06d"
   },
   "outputs": [
    {
     "data": {
      "text/plain": [
       "<matplotlib.image.AxesImage at 0x28836b95488>"
      ]
     },
     "execution_count": 19,
     "metadata": {},
     "output_type": "execute_result"
    },
    {
     "data": {
      "image/png": "[encoded data removed]",
      "text/plain": [
       "<Figure size 640x480 with 1 Axes>"
      ]
     },
     "metadata": {},
     "output_type": "display_data"
    }
   ],
   "source": [
    "plt.imshow(sample_image.reshape(32,32,3))"
   ]
  },
  {
   "cell_type": "code",
   "execution_count": 20,
   "metadata": {
    "id": "6M9W37ywH1hh",
    "outputId": "5aa2421a-753e-4a7e-a12d-b34ad91ea9e5"
   },
   "outputs": [
    {
     "data": {
      "text/plain": [
       "array([0., 1.], dtype=float32)"
      ]
     },
     "execution_count": 20,
     "metadata": {},
     "output_type": "execute_result"
    }
   ],
   "source": [
    "trainY[5]   # [0,1] means buildings [1,0] means forest"
   ]
  },
  {
   "cell_type": "markdown",
   "metadata": {
    "id": "NWaKJJQAH1hi"
   },
   "source": [
    "### Step 5:  Define the architecture for ANN MODEL"
   ]
  },
  {
   "cell_type": "code",
   "execution_count": 21,
   "metadata": {
    "id": "sn6MdCz1H1hi"
   },
   "outputs": [],
   "source": [
    "# define the 3072-1024-512-1 architecture using Keras\n",
    "\n",
    "model = Sequential()   \n",
    "\n",
    "# input layer 3072 as there are 32x32x3=3072 pixels in a flattened input image\n",
    "# first hidden layer has 1024 nodes\n",
    "model.add(Dense(units= 1024, input_shape=(3072,), kernel_initializer = 'uniform', activation=\"relu\"))  \n",
    "\n",
    "# # dropout for second layer \n",
    "# model.add(Dropout(0.4))\n",
    "\n",
    "# second hidden layer has 512 nodes\n",
    "model.add(Dense(units=512, kernel_initializer='uniform', activation=\"relu\"))                         \n",
    "\n",
    " # output layer with number of possible class labels\n",
    "model.add(Dense(units=2,kernel_initializer='uniform', activation=\"softmax\"))           "
   ]
  },
  {
   "cell_type": "markdown",
   "metadata": {
    "id": "D4TsihI_H1hi"
   },
   "source": [
    "## Compile Model"
   ]
  },
  {
   "cell_type": "markdown",
   "metadata": {
    "id": "BtOX9yVrH1hi"
   },
   "source": [
    "![image.png](attachment:image.png)"
   ]
  },
  {
   "cell_type": "markdown",
   "metadata": {
    "id": "QH_Z8uwLH1hj"
   },
   "source": [
    "### Step 6:  Compiling your tensorflow ANN model"
   ]
  },
  {
   "cell_type": "code",
   "execution_count": 22,
   "metadata": {
    "id": "4RfbU0kQH1hj",
    "outputId": "634fd727-b75f-4466-a688-3a224638672f"
   },
   "outputs": [
    {
     "name": "stdout",
     "output_type": "stream",
     "text": [
      "[INFO] compiling network network...\n"
     ]
    }
   ],
   "source": [
    "# initialize our initial learning rate and # of epochs to train for\n",
    "INIT_LR = 0.01\n",
    "EPOCHS = 50\n",
    " \n",
    "# compile the model using SGD as our optimizer and categorical cross-entropy loss\n",
    "# (you'll want to use binary_crossentropy for 2-class classification)\n",
    "print(\"[INFO] compiling network network...\")\n",
    "opt = SGD(lr=INIT_LR)   # Stochastic Gradient Descent (SGD) optimizer\n",
    "model.compile(loss=\"binary_crossentropy\", optimizer=opt, metrics=[\"accuracy\"])"
   ]
  },
  {
   "cell_type": "code",
   "execution_count": 23,
   "metadata": {
    "id": "6YUcdkObH1hj",
    "outputId": "dab436fa-23cc-4707-9a6c-e0f4f6bd0164"
   },
   "outputs": [
    {
     "name": "stdout",
     "output_type": "stream",
     "text": [
      "Model: \"sequential\"\n",
      "_________________________________________________________________\n",
      " Layer (type)                Output Shape              Param #   \n",
      "=================================================================\n",
      " dense (Dense)               (None, 1024)              3146752   \n",
      "                                                                 \n",
      " dense_1 (Dense)             (None, 512)               524800    \n",
      "                                                                 \n",
      " dense_2 (Dense)             (None, 2)                 1026      \n",
      "                                                                 \n",
      "=================================================================\n",
      "Total params: 3,672,578\n",
      "Trainable params: 3,672,578\n",
      "Non-trainable params: 0\n",
      "_________________________________________________________________\n"
     ]
    }
   ],
   "source": [
    "model.summary()"
   ]
  },
  {
   "cell_type": "markdown",
   "metadata": {
    "id": "N2VDhQ7tH1hk"
   },
   "source": [
    "### Step 7: Training your model on your training data"
   ]
  },
  {
   "cell_type": "markdown",
   "metadata": {
    "id": "xLiN6EKYH1hk"
   },
   "source": [
    "#### Fit (ie, Train) model"
   ]
  },
  {
   "cell_type": "code",
   "execution_count": 24,
   "metadata": {
    "id": "4JM-4rOxH1hk",
    "outputId": "3039f2ec-0276-41e0-d48f-97b8af223b49",
    "scrolled": true
   },
   "outputs": [
    {
     "name": "stdout",
     "output_type": "stream",
     "text": [
      "Epoch 1/50\n",
      "WARNING:tensorflow:AutoGraph could not transform <function Model.make_train_function.<locals>.train_function at 0x0000028837FFC558> and will run it as-is.\n",
      "Please report this to the TensorFlow team. When filing the bug, set the verbosity to 10 (on Linux, `export AUTOGRAPH_VERBOSITY=10`) and attach the full output.\n",
      "Cause: 'arguments' object has no attribute 'posonlyargs'\n",
      "To silence this warning, decorate the function with @tf.autograph.experimental.do_not_convert\n",
      "WARNING: AutoGraph could not transform <function Model.make_train_function.<locals>.train_function at 0x0000028837FFC558> and will run it as-is.\n",
      "Please report this to the TensorFlow team. When filing the bug, set the verbosity to 10 (on Linux, `export AUTOGRAPH_VERBOSITY=10`) and attach the full output.\n",
      "Cause: 'arguments' object has no attribute 'posonlyargs'\n",
      "To silence this warning, decorate the function with @tf.autograph.experimental.do_not_convert\n",
      "23/23 [==============================] - ETA: 0s - loss: 0.6511 - accuracy: 0.5567WARNING:tensorflow:AutoGraph could not transform <function Model.make_test_function.<locals>.test_function at 0x0000028837F8BAF8> and will run it as-is.\n",
      "Please report this to the TensorFlow team. When filing the bug, set the verbosity to 10 (on Linux, `export AUTOGRAPH_VERBOSITY=10`) and attach the full output.\n",
      "Cause: 'arguments' object has no attribute 'posonlyargs'\n",
      "To silence this warning, decorate the function with @tf.autograph.experimental.do_not_convert\n",
      "WARNING: AutoGraph could not transform <function Model.make_test_function.<locals>.test_function at 0x0000028837F8BAF8> and will run it as-is.\n",
      "Please report this to the TensorFlow team. When filing the bug, set the verbosity to 10 (on Linux, `export AUTOGRAPH_VERBOSITY=10`) and attach the full output.\n",
      "Cause: 'arguments' object has no attribute 'posonlyargs'\n",
      "To silence this warning, decorate the function with @tf.autograph.experimental.do_not_convert\n",
      "23/23 [==============================] - 8s 52ms/step - loss: 0.6511 - accuracy: 0.5567 - val_loss: 0.6455 - val_accuracy: 0.5989\n",
      "Epoch 2/50\n",
      "23/23 [==============================] - 1s 35ms/step - loss: 0.6226 - accuracy: 0.5722 - val_loss: 0.6131 - val_accuracy: 0.5537\n",
      "Epoch 3/50\n",
      "23/23 [==============================] - 1s 29ms/step - loss: 0.5993 - accuracy: 0.5793 - val_loss: 0.5965 - val_accuracy: 0.5537\n",
      "Epoch 4/50\n",
      "23/23 [==============================] - 1s 32ms/step - loss: 0.5789 - accuracy: 0.6331 - val_loss: 0.5643 - val_accuracy: 0.7175\n",
      "Epoch 5/50\n",
      "23/23 [==============================] - 1s 32ms/step - loss: 0.5565 - accuracy: 0.6983 - val_loss: 0.5413 - val_accuracy: 0.7966\n",
      "Epoch 6/50\n",
      "23/23 [==============================] - 1s 32ms/step - loss: 0.5332 - accuracy: 0.7535 - val_loss: 0.5437 - val_accuracy: 0.6384\n",
      "Epoch 7/50\n",
      "23/23 [==============================] - 1s 38ms/step - loss: 0.5155 - accuracy: 0.7535 - val_loss: 0.5139 - val_accuracy: 0.6949\n",
      "Epoch 8/50\n",
      "23/23 [==============================] - 1s 30ms/step - loss: 0.4955 - accuracy: 0.7649 - val_loss: 0.4702 - val_accuracy: 0.8531\n",
      "Epoch 9/50\n",
      "23/23 [==============================] - 1s 32ms/step - loss: 0.4726 - accuracy: 0.7932 - val_loss: 0.4494 - val_accuracy: 0.8644\n",
      "Epoch 10/50\n",
      "23/23 [==============================] - 1s 38ms/step - loss: 0.4525 - accuracy: 0.8343 - val_loss: 0.5159 - val_accuracy: 0.7458\n",
      "Epoch 11/50\n",
      "23/23 [==============================] - 1s 39ms/step - loss: 0.4428 - accuracy: 0.8357 - val_loss: 0.4452 - val_accuracy: 0.8588\n",
      "Epoch 12/50\n",
      "23/23 [==============================] - 1s 40ms/step - loss: 0.4265 - accuracy: 0.8484 - val_loss: 0.4072 - val_accuracy: 0.8136\n",
      "Epoch 13/50\n",
      "23/23 [==============================] - 1s 34ms/step - loss: 0.4087 - accuracy: 0.8258 - val_loss: 0.4065 - val_accuracy: 0.8023\n",
      "Epoch 14/50\n",
      "23/23 [==============================] - 1s 27ms/step - loss: 0.3957 - accuracy: 0.8484 - val_loss: 0.3823 - val_accuracy: 0.8757\n",
      "Epoch 15/50\n",
      "23/23 [==============================] - 1s 28ms/step - loss: 0.3824 - accuracy: 0.8555 - val_loss: 0.3822 - val_accuracy: 0.8192\n",
      "Epoch 16/50\n",
      "23/23 [==============================] - 1s 34ms/step - loss: 0.3733 - accuracy: 0.8527 - val_loss: 0.4087 - val_accuracy: 0.7966\n",
      "Epoch 17/50\n",
      "23/23 [==============================] - 1s 38ms/step - loss: 0.3732 - accuracy: 0.8428 - val_loss: 0.3647 - val_accuracy: 0.8418\n",
      "Epoch 18/50\n",
      "23/23 [==============================] - 1s 30ms/step - loss: 0.3608 - accuracy: 0.8626 - val_loss: 0.4092 - val_accuracy: 0.7910\n",
      "Epoch 19/50\n",
      "23/23 [==============================] - 1s 30ms/step - loss: 0.3519 - accuracy: 0.8626 - val_loss: 0.3487 - val_accuracy: 0.8588\n",
      "Epoch 20/50\n",
      "23/23 [==============================] - 1s 37ms/step - loss: 0.3382 - accuracy: 0.8669 - val_loss: 0.4517 - val_accuracy: 0.7627\n",
      "Epoch 21/50\n",
      "23/23 [==============================] - 1s 33ms/step - loss: 0.3382 - accuracy: 0.8640 - val_loss: 0.5513 - val_accuracy: 0.7062\n",
      "Epoch 22/50\n",
      "23/23 [==============================] - 1s 34ms/step - loss: 0.3417 - accuracy: 0.8584 - val_loss: 0.3296 - val_accuracy: 0.8814\n",
      "Epoch 23/50\n",
      "23/23 [==============================] - 1s 30ms/step - loss: 0.3218 - accuracy: 0.8782 - val_loss: 0.3561 - val_accuracy: 0.8305\n",
      "Epoch 24/50\n",
      "23/23 [==============================] - 1s 32ms/step - loss: 0.3162 - accuracy: 0.8824 - val_loss: 0.3633 - val_accuracy: 0.8192\n",
      "Epoch 25/50\n",
      "23/23 [==============================] - 1s 28ms/step - loss: 0.3025 - accuracy: 0.8711 - val_loss: 0.3308 - val_accuracy: 0.8588\n",
      "Epoch 26/50\n",
      "23/23 [==============================] - 1s 27ms/step - loss: 0.2932 - accuracy: 0.8782 - val_loss: 0.3161 - val_accuracy: 0.8870\n",
      "Epoch 27/50\n",
      "23/23 [==============================] - 1s 29ms/step - loss: 0.2904 - accuracy: 0.8881 - val_loss: 0.3411 - val_accuracy: 0.8305\n",
      "Epoch 28/50\n",
      "23/23 [==============================] - 1s 29ms/step - loss: 0.2797 - accuracy: 0.8966 - val_loss: 0.4657 - val_accuracy: 0.7458\n",
      "Epoch 29/50\n",
      "23/23 [==============================] - 1s 30ms/step - loss: 0.2822 - accuracy: 0.8924 - val_loss: 0.3222 - val_accuracy: 0.8927\n",
      "Epoch 30/50\n",
      "23/23 [==============================] - 1s 28ms/step - loss: 0.2715 - accuracy: 0.8994 - val_loss: 0.5819 - val_accuracy: 0.7684\n",
      "Epoch 31/50\n",
      "23/23 [==============================] - 1s 30ms/step - loss: 0.2855 - accuracy: 0.9023 - val_loss: 0.5296 - val_accuracy: 0.7232\n",
      "Epoch 32/50\n",
      "23/23 [==============================] - 1s 32ms/step - loss: 0.2576 - accuracy: 0.9136 - val_loss: 0.3458 - val_accuracy: 0.8531\n",
      "Epoch 33/50\n",
      "23/23 [==============================] - 1s 30ms/step - loss: 0.2560 - accuracy: 0.9235 - val_loss: 0.3202 - val_accuracy: 0.8814\n",
      "Epoch 34/50\n",
      "23/23 [==============================] - 1s 33ms/step - loss: 0.2565 - accuracy: 0.9164 - val_loss: 0.3624 - val_accuracy: 0.8362\n",
      "Epoch 35/50\n",
      "23/23 [==============================] - 1s 26ms/step - loss: 0.2533 - accuracy: 0.9150 - val_loss: 1.5415 - val_accuracy: 0.4859\n",
      "Epoch 36/50\n",
      "23/23 [==============================] - 1s 29ms/step - loss: 0.3319 - accuracy: 0.8796 - val_loss: 0.3407 - val_accuracy: 0.8531\n",
      "Epoch 37/50\n",
      "23/23 [==============================] - 1s 29ms/step - loss: 0.2266 - accuracy: 0.9306 - val_loss: 0.3081 - val_accuracy: 0.8814\n",
      "Epoch 38/50\n",
      "23/23 [==============================] - 1s 28ms/step - loss: 0.2218 - accuracy: 0.9292 - val_loss: 0.3019 - val_accuracy: 0.8757\n",
      "Epoch 39/50\n",
      "23/23 [==============================] - 1s 30ms/step - loss: 0.2225 - accuracy: 0.9263 - val_loss: 1.7025 - val_accuracy: 0.4802\n",
      "Epoch 40/50\n",
      "23/23 [==============================] - 1s 28ms/step - loss: 0.2788 - accuracy: 0.9150 - val_loss: 0.3075 - val_accuracy: 0.8757\n",
      "Epoch 41/50\n",
      "23/23 [==============================] - 1s 26ms/step - loss: 0.2046 - accuracy: 0.9462 - val_loss: 0.3069 - val_accuracy: 0.8701\n",
      "Epoch 42/50\n",
      "23/23 [==============================] - 1s 28ms/step - loss: 0.2310 - accuracy: 0.9150 - val_loss: 0.3776 - val_accuracy: 0.8192\n",
      "Epoch 43/50\n",
      "23/23 [==============================] - 1s 26ms/step - loss: 0.2020 - accuracy: 0.9363 - val_loss: 0.4046 - val_accuracy: 0.8305\n",
      "Epoch 44/50\n",
      "23/23 [==============================] - 1s 28ms/step - loss: 0.1962 - accuracy: 0.9462 - val_loss: 0.5096 - val_accuracy: 0.8136\n",
      "Epoch 45/50\n"
     ]
    },
    {
     "name": "stdout",
     "output_type": "stream",
     "text": [
      "23/23 [==============================] - 1s 29ms/step - loss: 0.2042 - accuracy: 0.9306 - val_loss: 0.3777 - val_accuracy: 0.8362\n",
      "Epoch 46/50\n",
      "23/23 [==============================] - 1s 26ms/step - loss: 0.1944 - accuracy: 0.9419 - val_loss: 0.5694 - val_accuracy: 0.7458\n",
      "Epoch 47/50\n",
      "23/23 [==============================] - 1s 28ms/step - loss: 0.1955 - accuracy: 0.9391 - val_loss: 0.3084 - val_accuracy: 0.8757\n",
      "Epoch 48/50\n",
      "23/23 [==============================] - 1s 27ms/step - loss: 0.1794 - accuracy: 0.9504 - val_loss: 0.6679 - val_accuracy: 0.7740\n",
      "Epoch 49/50\n",
      "23/23 [==============================] - 1s 29ms/step - loss: 0.2024 - accuracy: 0.9334 - val_loss: 0.3594 - val_accuracy: 0.8475\n",
      "Epoch 50/50\n",
      "23/23 [==============================] - 1s 29ms/step - loss: 0.1610 - accuracy: 0.9618 - val_loss: 0.4774 - val_accuracy: 0.8249\n",
      "Time taken: 43.3 seconds\n"
     ]
    }
   ],
   "source": [
    "# train the neural network on training data set\n",
    "# batch_size (32) controls the size of each group of data to pass through the network. \n",
    "\n",
    "time1 = time.time()   # to measure time taken\n",
    "H = model.fit(trainX, trainY, validation_data=(testX, testY), epochs=EPOCHS, batch_size=32)\n",
    "print('Time taken: {:.1f} seconds'.format(time.time() - time1))   # to measure time taken"
   ]
  },
  {
   "cell_type": "code",
   "execution_count": null,
   "metadata": {
    "id": "S0NicG85H1hl"
   },
   "outputs": [],
   "source": []
  },
  {
   "cell_type": "markdown",
   "metadata": {
    "id": "LA1TugnpH1hl"
   },
   "source": [
    "### Step 8: Evaluating your model on your test data "
   ]
  },
  {
   "cell_type": "markdown",
   "metadata": {
    "id": "207w4HO_H1hl"
   },
   "source": [
    "![image.png](attachment:image.png)"
   ]
  },
  {
   "cell_type": "code",
   "execution_count": null,
   "metadata": {
    "id": "fVjWkFsoH1hm",
    "outputId": "da4a65c8-9213-463a-b1ab-82e095ca7473"
   },
   "outputs": [],
   "source": [
    "# evaluate the network\n",
    "print(\"[INFO] evaluating network...\")\n",
    "pred_prob = model.predict(testX, batch_size=32)"
   ]
  },
  {
   "cell_type": "code",
   "execution_count": null,
   "metadata": {
    "id": "TDhO39EwH1hm",
    "outputId": "3f5ea01e-0751-4945-b6e4-4d87ccb10c72"
   },
   "outputs": [],
   "source": [
    "pred_prob"
   ]
  },
  {
   "cell_type": "code",
   "execution_count": null,
   "metadata": {
    "id": "TjnaEkNDH1hn",
    "outputId": "81da7694-d14b-4e2b-edf4-8ac5db2be41c"
   },
   "outputs": [],
   "source": [
    "9.25910056e-01"
   ]
  },
  {
   "cell_type": "code",
   "execution_count": null,
   "metadata": {
    "id": "5gfARUd9H1hn",
    "outputId": "0c1313d2-4073-4e47-ee0d-5b1992c3f2ad"
   },
   "outputs": [],
   "source": [
    "9.6146774e-01"
   ]
  },
  {
   "cell_type": "code",
   "execution_count": null,
   "metadata": {
    "id": "OqeLZUuHH1hn"
   },
   "outputs": [],
   "source": [
    "# testY"
   ]
  },
  {
   "cell_type": "markdown",
   "metadata": {
    "id": "a-gWgwFmH1ho"
   },
   "source": [
    "### Convert testY and y_pred into 1's and 0 for classification report\n"
   ]
  },
  {
   "cell_type": "code",
   "execution_count": null,
   "metadata": {
    "id": "v7DmFQsjH1ho"
   },
   "outputs": [],
   "source": [
    "# Note: buildings -> 1 and forest -> 0"
   ]
  },
  {
   "cell_type": "code",
   "execution_count": null,
   "metadata": {
    "id": "1DBLMzCzH1ho"
   },
   "outputs": [],
   "source": [
    "test_y = [ np.argmax(i)  for i in testY]\n",
    "pred_y = [ np.argmax(i)  for i in pred_prob]"
   ]
  },
  {
   "cell_type": "code",
   "execution_count": null,
   "metadata": {
    "id": "GRIqTRg0H1ho"
   },
   "outputs": [],
   "source": [
    "# test_y"
   ]
  },
  {
   "cell_type": "code",
   "execution_count": null,
   "metadata": {
    "id": "tct3USbgH1hp",
    "outputId": "8c7e6162-445b-4a70-a3ae-86f86245949b"
   },
   "outputs": [],
   "source": [
    "pred_y"
   ]
  },
  {
   "cell_type": "code",
   "execution_count": null,
   "metadata": {
    "id": "R2Az8TLkH1hp"
   },
   "outputs": [],
   "source": [
    "def plot_confusion_metrix(y_true, y_pred,classes,\n",
    "                         normalize=False,\n",
    "                         title='Confusion Matrix',\n",
    "                         cmap=plt.cm.Blues):\n",
    "    \"\"\"\n",
    "    Objective\n",
    "    ----------\n",
    "    plot confussion matrix, classification report and accuracy score\n",
    "    \n",
    "    parameters\n",
    "    ----------\n",
    "    y_true : array-like of shape (n_samples,)\n",
    "        Ground truth (correct) target values.\n",
    "\n",
    "    y_pred : array-like of shape (n_samples,)\n",
    "        Estimated targets as returned by a classifier.\n",
    "    \n",
    "    classes : list\n",
    "        List of labels to index the matrix\n",
    "        \n",
    "    title : title for matrix\n",
    "    cmap : colormap for matrix \n",
    "    \n",
    "    returns \n",
    "    ----------\n",
    "   all accruacy matrix \n",
    "    \"\"\"\n",
    "    \n",
    "    \n",
    "    cm = confusion_matrix(y_true,y_pred)\n",
    "    \n",
    "    \n",
    "    if normalize:\n",
    "        cm = cm.astype('float') / cm.sum(axis=1)[:, np.newaxis]\n",
    "        print(\"Normalized Confusion Matrix\")\n",
    "    else:\n",
    "        print(\"Confusion Matrix, Without Normalisation\")\n",
    "\n",
    "    \n",
    "    plt.imshow(cm, interpolation='nearest',cmap=cmap)\n",
    "    plt.title(title)\n",
    "    plt.colorbar()\n",
    "    tick_marks = np.arange(len(classes))\n",
    "    plt.xticks(tick_marks,classes,rotation=35)\n",
    "    plt.yticks(tick_marks,classes)\n",
    "    \n",
    "    fmt = '.2f' if normalize else 'd'\n",
    "    thresh = cm.max() /2.\n",
    "    \n",
    "    for i , j in itertools.product(range(cm.shape[0]), range(cm.shape[0])):\n",
    "        plt.text(j, i, format(cm[i,j], fmt),\n",
    "                 horizontalalignment='center',\n",
    "                 color='white' if cm[i, j] > thresh else 'black')\n",
    "    \n",
    "    plt.ylabel('True label')\n",
    "    plt.xlabel('Predicted label')\n",
    "    # plt.tight_layout()\n",
    "    \n",
    "    plt.show()\n",
    "    \n",
    "    print(\"-----------------------------------------------------\")\n",
    "    print('Classification report')\n",
    "    print(classification_report(y_true,y_pred))\n",
    "    \n",
    "    print(\"-----------------------------------------------------\")\n",
    "    acc= accuracy_score(y_true,y_pred)\n",
    "    print(\"Accuracy of the model: \", acc)"
   ]
  },
  {
   "cell_type": "code",
   "execution_count": null,
   "metadata": {
    "id": "dyVfoLGNH1hp",
    "outputId": "26aa7162-975a-4897-acf6-977612a1d5c1",
    "scrolled": true
   },
   "outputs": [],
   "source": [
    "plot_confusion_metrix(test_y, pred_y,classes=[\"Forest: 0\",\"Buildings: 1\"])"
   ]
  },
  {
   "cell_type": "markdown",
   "metadata": {
    "id": "GJqB_fgnH1hq"
   },
   "source": [
    "### Step 9: Generate Plots for acc and val "
   ]
  },
  {
   "cell_type": "code",
   "execution_count": null,
   "metadata": {
    "id": "lZLMjjR9H1hq",
    "outputId": "70f181ec-23e8-4da9-bfff-0f3bce365dee"
   },
   "outputs": [],
   "source": [
    "# plot the training and validation loss\n",
    "N = np.arange(0, EPOCHS)\n",
    "plt.style.use(\"ggplot\")\n",
    "plt.figure(figsize = [10,8])\n",
    "plt.plot(N, H.history[\"loss\"], label=\"train_loss\")\n",
    "plt.plot(N, H.history[\"val_loss\"], label=\"val_loss\")\n",
    "plt.title(\"ANN: Training & Validation Loss\")\n",
    "plt.xlabel(\"Epoch #\", weight=\"bold\")\n",
    "plt.ylabel(\"Loss\", weight=\"bold\")\n",
    "plt.legend()\n",
    "plt.show()"
   ]
  },
  {
   "cell_type": "code",
   "execution_count": null,
   "metadata": {
    "id": "5De4qVQ4H1hq",
    "outputId": "927e59f6-b4d9-40e8-d17b-b4419b816230"
   },
   "outputs": [],
   "source": [
    "# plot the training and validation accuracy\n",
    "N = np.arange(0, EPOCHS)\n",
    "plt.style.use(\"ggplot\")\n",
    "plt.figure(figsize = [10,8])\n",
    "plt.plot(N, H.history[\"accuracy\"], label=\"train_acc\")\n",
    "plt.plot(N, H.history[\"val_accuracy\"], label=\"val_acc\")\n",
    "plt.title(\"ANN: Training and Validation Accuracy\")\n",
    "plt.xlabel(\"Epoch #\", weight=\"bold\")\n",
    "plt.ylabel(\"Accuracy\", weight=\"bold\")\n",
    "plt.legend()\n",
    "plt.show()"
   ]
  },
  {
   "cell_type": "code",
   "execution_count": null,
   "metadata": {
    "id": "shtColjWH1hr"
   },
   "outputs": [],
   "source": [
    "# accuracy = 88%"
   ]
  },
  {
   "cell_type": "markdown",
   "metadata": {
    "id": "KdGFIrlQH1hr"
   },
   "source": [
    "### Step 10: Saving the train model "
   ]
  },
  {
   "cell_type": "code",
   "execution_count": null,
   "metadata": {
    "id": "ywefocd8H1hs",
    "outputId": "a9dd0477-a510-4a8e-91cc-60a7a95b20d8"
   },
   "outputs": [],
   "source": [
    "model.summary()"
   ]
  },
  {
   "cell_type": "code",
   "execution_count": null,
   "metadata": {
    "id": "HBZCa0oJH1hs",
    "outputId": "01d4100c-f91b-4bb6-8b79-005fa827eb1d"
   },
   "outputs": [],
   "source": [
    "# save the model and label binarizer to disk\n",
    "print(\"[INFO] serializing network and label binarizer...\")\n",
    "model.save('model_ANN.h5')\n"
   ]
  },
  {
   "cell_type": "markdown",
   "metadata": {
    "id": "n6qjHck8H1ht"
   },
   "source": [
    "### Step 11: Making predictions using your trained tensorflow model"
   ]
  },
  {
   "cell_type": "code",
   "execution_count": null,
   "metadata": {
    "id": "rXLgFC1yH1ht"
   },
   "outputs": [],
   "source": [
    "# import the necessary packages\n",
    "from tensorflow.keras.models import load_model\n",
    "import pickle\n",
    "import cv2\n",
    "import imutils\n",
    "import matplotlib.pyplot as plt\n",
    "%matplotlib inline"
   ]
  },
  {
   "cell_type": "code",
   "execution_count": null,
   "metadata": {
    "id": "S_twfMl7H1ht",
    "outputId": "4a4e76ef-4097-40fc-b5da-f734e71d2bdd"
   },
   "outputs": [],
   "source": [
    "# # load the model \n",
    "# print(\"[INFO] loading network and...\")\n",
    "# model2 = load_model(\"model_ANN.h5\")"
   ]
  },
  {
   "cell_type": "code",
   "execution_count": null,
   "metadata": {
    "id": "vrCsgnI5H1hu"
   },
   "outputs": [],
   "source": [
    "def display_img(img):\n",
    "    fig = plt.figure(figsize=(12,10))\n",
    "    plt.grid(b=None)\n",
    "    ax = fig.add_subplot(111)\n",
    "    ax.imshow(img)"
   ]
  },
  {
   "cell_type": "code",
   "execution_count": null,
   "metadata": {
    "id": "Dt9L1h68H1hu",
    "outputId": "652972b9-c8d8-484c-9cea-5dc3add4ae91",
    "scrolled": true
   },
   "outputs": [],
   "source": [
    "# load the input image and resize it to the target spatial dimensions\n",
    "width = 32\n",
    "height = 32\n",
    "\n",
    "# grab the image paths and randomly shuffle them\n",
    "testImagePaths = sorted(list(paths.list_images('test_examples')))   # test data folder with random images\n",
    "\n",
    "\n",
    "# progress bar \n",
    "with tqdm(total=len(testImagePaths)) as pbar:\n",
    "    \n",
    "    for imagePath in testImagePaths:\n",
    "        image = cv2.imread(imagePath)\n",
    "        output = image.copy()\n",
    "        image = cv2.resize(image, (width, height))\n",
    "\n",
    "        # scale the pixel values to [0, 1]\n",
    "        image = image.astype(\"float\") / 255.0\n",
    "\n",
    "        # for a simple fully-connected network, flatten the image\n",
    "        image = image.flatten()\n",
    "        image = image.reshape((1, image.shape[0]))\n",
    "\n",
    "\n",
    "        # make a prediction on the image\n",
    "        preds = model.predict(image)\n",
    "\n",
    "        # find the class label index with the largest corresponding probability\n",
    "        i = preds.argmax(axis=1)[0]\n",
    "        label = classes[i]\n",
    "        \n",
    "        label = \"{}: {:.2f}%\".format(label, preds[0][i] * 100)\n",
    "\n",
    "        \n",
    "        output = imutils.resize(output, width=400)\n",
    "        cv2.putText(output, label, (10, 25),  cv2.FONT_HERSHEY_SIMPLEX,\n",
    "            0.7, (0, 255, 0), 2)\n",
    "        \n",
    "        # convert img to rgb format and display in noteboo\n",
    "        img = cv2.cvtColor(output, cv2.COLOR_BGR2RGB)\n",
    "        display_img(img)\n",
    "\n",
    "#         print(\"############################\")\n",
    "#         print(\"image: {}\".format(os.path.split(imagePath)[-1]))\n",
    "#         print(\"predicted label: {}\".format(label))\n",
    "#         print(\"Confidence: {}\".format(preds[0][i]))\n",
    "        \n",
    "        pbar.update(1)"
   ]
  },
  {
   "cell_type": "markdown",
   "metadata": {
    "id": "DAyLD_WRH1hv"
   },
   "source": [
    "## Deployment"
   ]
  },
  {
   "cell_type": "code",
   "execution_count": null,
   "metadata": {
    "id": "ML2hzEuwH1hw"
   },
   "outputs": [],
   "source": [
    "# !pip install gradio"
   ]
  },
  {
   "cell_type": "code",
   "execution_count": null,
   "metadata": {
    "id": "kArJAiWyH1hw"
   },
   "outputs": [],
   "source": [
    "import gradio as gr"
   ]
  },
  {
   "cell_type": "code",
   "execution_count": null,
   "metadata": {
    "id": "hdQAzpp_H1hw"
   },
   "outputs": [],
   "source": [
    "def predict_image(image):\n",
    "    \n",
    "    image = cv2.resize(image, (32, 32))\n",
    "\n",
    "    # scale the pixel values to [0, 1]\n",
    "    image = image.astype(\"float\") / 255.0\n",
    "\n",
    "    # for a simple fully-connected network, flatten the image\n",
    "    image = image.flatten()\n",
    "    image = image.reshape((1, image.shape[0]))\n",
    "\n",
    "    # make a prediction on the image\n",
    "    preds = model.predict(image).flatten()\n",
    "    result = dict()\n",
    "    result[\"Forest\"] = round(float(list(preds)[0]), 3)\n",
    "    result[\"Buildings\"] = round(float(list(preds)[1]), 3)\n",
    "    print(result)\n",
    "    \n",
    "    return result\n",
    "\n",
    "im = gr.inputs.Image(shape=(32,32))\n",
    "label = gr.outputs.Label(num_top_classes=2)\n",
    "\n",
    "gr.Interface(fn=predict_image, inputs=im, outputs=label, capture_session=True, title=\"ANN Demo\").launch(share=True)"
   ]
  },
  {
   "cell_type": "code",
   "execution_count": null,
   "metadata": {
    "id": "5FIWwwwkH1hx"
   },
   "outputs": [],
   "source": []
  }
 ],
 "metadata": {
  "accelerator": "GPU",
  "colab": {
   "name": "Final_ANN.ipynb",
   "provenance": []
  },
  "kernelspec": {
   "display_name": "tf_gpu",
   "language": "python",
   "name": "tf_gpu"
  },
  "language_info": {
   "codemirror_mode": {
    "name": "ipython",
    "version": 3
   },
   "file_extension": ".py",
   "mimetype": "text/x-python",
   "name": "python",
   "nbconvert_exporter": "python",
   "pygments_lexer": "ipython3",
   "version": "3.7.13"
  }
 },
 "nbformat": 4,
 "nbformat_minor": 1
}
